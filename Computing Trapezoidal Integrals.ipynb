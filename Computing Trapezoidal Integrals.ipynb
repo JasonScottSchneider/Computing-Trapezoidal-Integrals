{
 "cells": [
  {
   "cell_type": "markdown",
   "metadata": {},
   "source": [
    "## The Composite Trapezoidal Rule"
   ]
  },
  {
   "cell_type": "markdown",
   "metadata": {},
   "source": [
    "<h3>A General Implementation</h3>"
   ]
  },
  {
   "cell_type": "code",
   "execution_count": 12,
   "metadata": {},
   "outputs": [
    {
     "name": "stdout",
     "output_type": "stream",
     "text": [
      "Enter the function: 3*(t**2)*exp(t**3)\n",
      "Enter the left-side boundary for an interval: 0\n",
      "Enter the right-side boundary for an interval: 1\n",
      "Enter the number of partitions of the integral: 4\n"
     ]
    },
    {
     "data": {
      "text/plain": [
       "1.9227167504675762"
      ]
     },
     "execution_count": 12,
     "metadata": {},
     "output_type": "execute_result"
    }
   ],
   "source": [
    "from math import exp\n",
    "def trapezoidal(f,a,b,n):\n",
    "    h = (b-a)/n\n",
    "    f_sum = 0\n",
    "    for i in range(1,n,1):\n",
    "        x = a + i*h\n",
    "        f_sum = f_sum + f(x)\n",
    "    return h*(0.5*f(a) + f_sum + 0.5*f(b))\n",
    "\n",
    "\n",
    "f = input('Enter the function: ', )\n",
    "a = int(input('Enter the left-side boundary for an interval: ', ))\n",
    "b = int(input('Enter the right-side boundary for an interval: ', ))\n",
    "n = int(input('Enter the number of partitions of the integral: ',))\n",
    "trapezoidal(eval('lambda t: ' + f),a,b,n)#3*(t**2)*exp(t**3),0,1,4\n",
    "#1.9227167504675762"
   ]
  },
  {
   "cell_type": "markdown",
   "metadata": {},
   "source": [
    "<h3>Using the General Implementation in a Program</h3>"
   ]
  },
  {
   "cell_type": "code",
   "execution_count": 14,
   "metadata": {},
   "outputs": [
    {
     "name": "stdout",
     "output_type": "stream",
     "text": [
      "Enter the function: 3*(t**2)*exp(t**3)\n",
      "Enter the left-side boundary for an interval: 0\n",
      "Enter the right-side boundary for an interval: 1\n",
      "Enter the number of partitions of the integral: 4\n",
      "Enter the anti-derivative: exp(t**3)\n",
      "n=4: 1.9227167504675762, error: 0.204435\n"
     ]
    }
   ],
   "source": [
    "from math import exp\n",
    "\n",
    "def trapezoidal(f,a,b,n):\n",
    "    h = (b-a)/n\n",
    "    f_sum = 0\n",
    "    for i in range(1,n,1):\n",
    "        x = a + i*h\n",
    "        f_sum = f_sum + f(x)\n",
    "    return h*(0.5*f(a) + f_sum + 0.5*f(b))\n",
    "\n",
    "def application():\n",
    "    f = input('Enter the function: ', )\n",
    "    a = int(input('Enter the left-side boundary for an interval: ', ))#0\n",
    "    b = int(input('Enter the right-side boundary for an interval: ', ))#1\n",
    "    n = int(input('Enter the number of partitions of the integral: ',))#4\n",
    "    v = eval('lambda t: ' + f )#3*(t**2)*exp(t**3)\n",
    "    numerical = trapezoidal(v,0,1,n)\n",
    "\n",
    "    # Compare with exact result\n",
    "    d = input('Enter the anti-derivative: ', )\n",
    "    V = eval('lambda t: ' + d)#exp(t**3)\n",
    "    exact = V(1) - V(0)\n",
    "    error = abs(exact - numerical)\n",
    "    print('n={:d}: {:.16f}, error: {:g}'.format(n,numerical,error))\n",
    "    \n",
    "if __name__ == '__main__':\n",
    "    application()\n",
    "    \n",
    "#n=4: 1.9227167504675762, error: 0.204435"
   ]
  }
 ],
 "metadata": {
  "kernelspec": {
   "display_name": "Python 3",
   "language": "python",
   "name": "python3"
  },
  "language_info": {
   "codemirror_mode": {
    "name": "ipython",
    "version": 3
   },
   "file_extension": ".py",
   "mimetype": "text/x-python",
   "name": "python",
   "nbconvert_exporter": "python",
   "pygments_lexer": "ipython3",
   "version": "3.8.6"
  }
 },
 "nbformat": 4,
 "nbformat_minor": 4
}
